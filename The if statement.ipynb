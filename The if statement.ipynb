{
 "cells": [
  {
   "cell_type": "code",
   "execution_count": 1,
   "id": "84cee123",
   "metadata": {},
   "outputs": [],
   "source": [
    "#IF Statements\n",
    "\n",
    "import numpy as np\n",
    "from numpy.random import randn"
   ]
  },
  {
   "cell_type": "code",
   "execution_count": 18,
   "id": "04a6443f",
   "metadata": {},
   "outputs": [
    {
     "data": {
      "text/plain": [
       "-0.42155236586874933"
      ]
     },
     "execution_count": 18,
     "metadata": {},
     "output_type": "execute_result"
    }
   ],
   "source": [
    "randn()"
   ]
  },
  {
   "cell_type": "code",
   "execution_count": 20,
   "id": "44a407b0",
   "metadata": {},
   "outputs": [
    {
     "name": "stdout",
     "output_type": "stream",
     "text": [
      "3.014855530270265\n",
      "Greater than 1\n"
     ]
    }
   ],
   "source": [
    "x = randn()\n",
    "if x > 1:\n",
    "    answer = \"Greater than 1\"\n",
    "else : \n",
    "    answer = \"Less than 1\"\n",
    "print(x) \n",
    "print(answer)"
   ]
  },
  {
   "cell_type": "markdown",
   "id": "d638213f",
   "metadata": {},
   "source": [
    "---"
   ]
  },
  {
   "cell_type": "code",
   "execution_count": 21,
   "id": "7ebf0ef8",
   "metadata": {},
   "outputs": [
    {
     "name": "stdout",
     "output_type": "stream",
     "text": [
      "-0.6493428867517288\n",
      "Less than 1\n"
     ]
    }
   ],
   "source": [
    "x = randn()\n",
    "if x > 1:\n",
    "    answer = \"Greater than 1\"\n",
    "    print(x) \n",
    "    print(answer)\n",
    "else : \n",
    "    answer = \"Less than 1\"\n",
    "    print(x) \n",
    "    print(answer)\n"
   ]
  },
  {
   "cell_type": "markdown",
   "id": "06777bf1",
   "metadata": {},
   "source": [
    "----"
   ]
  },
  {
   "cell_type": "code",
   "execution_count": 31,
   "id": "ce130e8f",
   "metadata": {},
   "outputs": [
    {
     "name": "stdout",
     "output_type": "stream",
     "text": [
      "x is Less than 1 and x =  -0.5974931900076692\n"
     ]
    }
   ],
   "source": [
    "x = randn()\n",
    "if x > 1:\n",
    "    print(\"x is Greater than 1 and x = \", x) \n",
    "else : \n",
    "    print(\"x is Less than 1 and x = \", x) \n"
   ]
  },
  {
   "cell_type": "markdown",
   "id": "04fde271",
   "metadata": {},
   "source": [
    "----"
   ]
  },
  {
   "cell_type": "code",
   "execution_count": 32,
   "id": "e4ca18a5",
   "metadata": {},
   "outputs": [
    {
     "name": "stdout",
     "output_type": "stream",
     "text": [
      "0.40179062870701493\n",
      "Answer is between -1 and 1\n"
     ]
    }
   ],
   "source": [
    "#---- -2 ---- -1 ---- 0 ----- 1 ----- 2\n",
    "#Nested Statements\n",
    "x = randn()\n",
    "if x > 1:\n",
    "    answer = \"Greater than 1\"\n",
    "else : \n",
    "    if x >= -1:\n",
    "        answer = \"Answer is between -1 and 1\"\n",
    "    else:\n",
    "        answer = \"Answer is lesswer than -1\"\n",
    "print(x) \n",
    "print(answer)"
   ]
  },
  {
   "cell_type": "markdown",
   "id": "6110f018",
   "metadata": {},
   "source": [
    "----"
   ]
  },
  {
   "cell_type": "code",
   "execution_count": 46,
   "id": "9e007515",
   "metadata": {},
   "outputs": [
    {
     "name": "stdout",
     "output_type": "stream",
     "text": [
      "-0.1243730454940125\n",
      "Answer is between -1 and 1\n"
     ]
    }
   ],
   "source": [
    "#---- -2 ---- -1 ---- 0 ----- 1 ----- 2\n",
    "#Chained Sattemnts\n",
    "x = randn()\n",
    "if x > 1:\n",
    "    answer = \"Greater than 1\"\n",
    "elif x >= -1:\n",
    "    answer = \"Answer is between -1 and 1\"\n",
    "else:\n",
    "    answer = \"Answer is lesser than -1\"\n",
    "print(x) \n",
    "print(answer)"
   ]
  },
  {
   "cell_type": "markdown",
   "id": "952e823e",
   "metadata": {},
   "source": [
    "----"
   ]
  }
 ],
 "metadata": {
  "kernelspec": {
   "display_name": "Python 3 (ipykernel)",
   "language": "python",
   "name": "python3"
  },
  "language_info": {
   "codemirror_mode": {
    "name": "ipython",
    "version": 3
   },
   "file_extension": ".py",
   "mimetype": "text/x-python",
   "name": "python",
   "nbconvert_exporter": "python",
   "pygments_lexer": "ipython3",
   "version": "3.9.13"
  }
 },
 "nbformat": 4,
 "nbformat_minor": 5
}
